{
 "cells": [
  {
   "cell_type": "markdown",
   "metadata": {},
   "source": [
    "# Annotation task\n",
    "\n",
    "## BHO Topographical Dictionaries to Wikidata\n",
    "\n",
    "Annotation task: linking entries from the [BHO Topographical Dictionaries](https://www.british-history.ac.uk/search/series/topographical-dict) to their corresponding [Wikidata](https://www.wikidata.org/wiki/Wikidata:Main_Page) entries.\n",
    "\n",
    "You don't need to do complete all the annotations at once.\n",
    "\n",
    "***\n",
    "\n",
    "<font color=darkred>\n",
    "    \n",
    "### Instructions\n",
    "    \n",
    "The annotations interface looks like this:\n",
    "\n",
    "<div>\n",
    "<img src=\"example_ann.png\" width=\"750\"/>\n",
    "</div>\n",
    "\n",
    "The first block contains information on your progress annotating.\n",
    "\n",
    "The second block is where you annotate.\n",
    "* There is a text box in which you can type text, in particular a Wikidata ID (e.g. \"Q111111\").\n",
    "* There are four different buttons:\n",
    "    * `submit`: Submit the content you have typed on the text box. The text **must match** the Wikidata ID format (e.g. \"Q111111\").\n",
    "    * `not in wikidata`: Click this if you have not been able to find the corresponding Wikidata entry.\n",
    "    * `back`: Go to the previous entry.\n",
    "    * `skip`: Skip the current entry.\n",
    "\n",
    "The third block is the BHO entry that we want to link to Wikidata. In this case, `Curbridge` (BHO ID 4451). We provide the first paragraph of the BHO entry, to help disambiguate.\n",
    "\n",
    "The fourth block is the Wikidata entries that we have identified as potential candidates with DeezyMatch. In the example you can see two different wikidata candidates: \"Curbridge, Oxfordshire\" with ID Q2222338 and \"Curbridge, Hampshire\" with ID Q5194654. For each wikidata candidate we provide some info extracted from either Wikipedia or Wikidata on this entry, to help the annotation process. For each entry, we provide (if the information exists):\n",
    "* Historic county: traditional geographical division of Great Britain and Ireland, extracted from Wikidata.\n",
    "* Description: first lines of the corresponding Wikipedia page, or Wikidata description.\n",
    "* Wikidata link: link to Wikidata, in case you want to explore this candidate further.\n",
    "* Wikipedia link: link to Wikipedia, in case you want to explore this candidate further.\n",
    "\n",
    "**Note:** It is possible that the correct Wikidata entry is not among the potential candidates (because we have failed to identify it as a potential candidate). Please double-check that it really does not exist in [Wikidata](https://www.wikidata.org/wiki/Wikidata:Main_Page) before clicking on the \"not in wikidata\" button.\n",
    "\n",
    "</font>\n",
    "\n",
    "***\n",
    "\n",
    "## Annotation\n",
    "Run the cell below to annotate some entries."
   ]
  },
  {
   "cell_type": "code",
   "execution_count": null,
   "metadata": {
    "scrolled": false
   },
   "outputs": [],
   "source": [
    "import utils\n",
    "\n",
    "utils.annotate()"
   ]
  }
 ],
 "metadata": {
  "kernelspec": {
   "display_name": "Python 3",
   "language": "python",
   "name": "python3"
  },
  "language_info": {
   "codemirror_mode": {
    "name": "ipython",
    "version": 3
   },
   "file_extension": ".py",
   "mimetype": "text/x-python",
   "name": "python",
   "nbconvert_exporter": "python",
   "pygments_lexer": "ipython3",
   "version": "3.6.9"
  }
 },
 "nbformat": 4,
 "nbformat_minor": 2
}
